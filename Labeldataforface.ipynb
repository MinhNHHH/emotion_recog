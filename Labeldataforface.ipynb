{
 "cells": [
  {
   "cell_type": "code",
   "execution_count": 110,
   "metadata": {},
   "outputs": [],
   "source": [
    "import cv2\n",
    "import os\n",
    "import matplotlib.pyplot as plt\n",
    "import json\n",
    "from fastai.vision import *\n",
    "import fastai\n",
    "from PIL import Image"
   ]
  },
  {
   "cell_type": "code",
   "execution_count": 111,
   "metadata": {},
   "outputs": [],
   "source": [
    "face_cascade = cv2.CascadeClassifier('miniconda3/envs/myenv/lib/site-packages/cv2/data/haarcascade_frontalface_default.xml')"
   ]
  },
  {
   "cell_type": "code",
   "execution_count": 4,
   "metadata": {
    "collapsed": true,
    "jupyter": {
     "outputs_hidden": true
    }
   },
   "outputs": [
    {
     "ename": "NameError",
     "evalue": "name 'img' is not defined",
     "output_type": "error",
     "traceback": [
      "\u001b[1;31m---------------------------------------------------------------------------\u001b[0m",
      "\u001b[1;31mNameError\u001b[0m                                 Traceback (most recent call last)",
      "\u001b[1;32m<ipython-input-4-53ba742b8630>\u001b[0m in \u001b[0;36m<module>\u001b[1;34m\u001b[0m\n\u001b[1;32m----> 1\u001b[1;33m \u001b[0mb\u001b[0m\u001b[1;33m,\u001b[0m\u001b[0mg\u001b[0m\u001b[1;33m,\u001b[0m\u001b[0mr\u001b[0m \u001b[1;33m=\u001b[0m \u001b[0mcv2\u001b[0m\u001b[1;33m.\u001b[0m\u001b[0msplit\u001b[0m\u001b[1;33m(\u001b[0m\u001b[0mimg\u001b[0m\u001b[1;33m)\u001b[0m       \u001b[1;31m# get b,g,r\u001b[0m\u001b[1;33m\u001b[0m\u001b[1;33m\u001b[0m\u001b[0m\n\u001b[0m\u001b[0;32m      2\u001b[0m \u001b[0mrgb_img\u001b[0m \u001b[1;33m=\u001b[0m \u001b[0mcv2\u001b[0m\u001b[1;33m.\u001b[0m\u001b[0mmerge\u001b[0m\u001b[1;33m(\u001b[0m\u001b[1;33m[\u001b[0m\u001b[0mr\u001b[0m\u001b[1;33m,\u001b[0m\u001b[0mg\u001b[0m\u001b[1;33m,\u001b[0m\u001b[0mb\u001b[0m\u001b[1;33m]\u001b[0m\u001b[1;33m)\u001b[0m\u001b[1;33m\u001b[0m\u001b[1;33m\u001b[0m\u001b[0m\n",
      "\u001b[1;31mNameError\u001b[0m: name 'img' is not defined"
     ]
    }
   ],
   "source": [
    "#b,g,r = cv2.split(img)       # get b,g,r\n",
    "#rgb_img = cv2.merge([r,g,b])"
   ]
  },
  {
   "cell_type": "markdown",
   "metadata": {},
   "source": [
    "## Detec BoudingBox"
   ]
  },
  {
   "cell_type": "code",
   "execution_count": 112,
   "metadata": {},
   "outputs": [],
   "source": [
    "def detectface(img):\n",
    "    img = cv2.imread(f\"{img}\",cv2.IMREAD_COLOR)\n",
    "    faces = face_cascade.detectMultiScale(img, scaleFactor=1.2, minNeighbors=5)\n",
    "    (x,y,w,h) = faces[0]\n",
    "    return (x,y,w,h)"
   ]
  },
  {
   "cell_type": "markdown",
   "metadata": {},
   "source": [
    "## Create json file"
   ]
  },
  {
   "cell_type": "code",
   "execution_count": 79,
   "metadata": {},
   "outputs": [],
   "source": [
    "def label(path,img):\n",
    "    detect = detectface(path)\n",
    "    try:\n",
    "        a =json.load(open('C:/Users/hoang/data1.json'))\n",
    "        if type(a) is dict:\n",
    "            a = [a]\n",
    "        data = {}\n",
    "        data['annotations'] = []\n",
    "        data['annotations'].append({\n",
    "            'class': 'face',\n",
    "            'x': float(detect[0]),\n",
    "            'y': float(detect[1]),\n",
    "            'w': float(detect[2]),\n",
    "            'h': float(detect[3])\n",
    "        })\n",
    "        data['claas'] ='image'\n",
    "        data['filenam'] = f\"{img}\"\n",
    "        a.append(data)\n",
    "        with open('data1.json', 'w') as outfile:\n",
    "            json.dump(a, outfile)\n",
    "    except:\n",
    "        data = {}\n",
    "        data['annotations'] = []\n",
    "        data['annotations'].append({\n",
    "            'class': 'face',\n",
    "            'x': float(detect[0]),\n",
    "            'y': float(detect[1]),\n",
    "            'w': float(detect[2]),\n",
    "            'h': float(detect[3])\n",
    "        })\n",
    "        data['claas'] ='image'\n",
    "        data['filenam'] = f\"{img}\"\n",
    "        with open('data1.json', 'w') as outfile:\n",
    "            json.dump(data, outfile)"
   ]
  },
  {
   "cell_type": "code",
   "execution_count": 12,
   "metadata": {},
   "outputs": [],
   "source": [
    "path1 = os.listdir(f\"D:New folder/part1.tar/part1\")"
   ]
  },
  {
   "cell_type": "code",
   "execution_count": null,
   "metadata": {},
   "outputs": [],
   "source": [
    "SZ=224\n",
    "c = 0\n",
    "for i in range(1000,2000,1):\n",
    "    try:\n",
    "        a = PIL.Image.open(f\"D:New folder/part1.tar/part1/{path1[i]}\")\n",
    "        label(f\"D:New folder/part1.tar/part1/{path1[i]}\",path1[i])\n",
    "    except:\n",
    "        c += 1\n",
    "        print(f\"{path1[i]}\")\n",
    "print(c)"
   ]
  },
  {
   "cell_type": "code",
   "execution_count": null,
   "metadata": {},
   "outputs": [],
   "source": []
  },
  {
   "cell_type": "code",
   "execution_count": null,
   "metadata": {},
   "outputs": [],
   "source": []
  },
  {
   "cell_type": "code",
   "execution_count": null,
   "metadata": {},
   "outputs": [],
   "source": []
  },
  {
   "cell_type": "code",
   "execution_count": null,
   "metadata": {},
   "outputs": [],
   "source": []
  },
  {
   "cell_type": "code",
   "execution_count": null,
   "metadata": {},
   "outputs": [],
   "source": []
  },
  {
   "cell_type": "code",
   "execution_count": null,
   "metadata": {},
   "outputs": [],
   "source": []
  },
  {
   "cell_type": "code",
   "execution_count": null,
   "metadata": {},
   "outputs": [],
   "source": []
  }
 ],
 "metadata": {
  "kernelspec": {
   "display_name": "Python 3",
   "language": "python",
   "name": "python3"
  },
  "language_info": {
   "codemirror_mode": {
    "name": "ipython",
    "version": 3
   },
   "file_extension": ".py",
   "mimetype": "text/x-python",
   "name": "python",
   "nbconvert_exporter": "python",
   "pygments_lexer": "ipython3",
   "version": "3.6.12"
  }
 },
 "nbformat": 4,
 "nbformat_minor": 4
}
